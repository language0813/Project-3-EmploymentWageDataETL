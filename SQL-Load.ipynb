{
 "cells": [
  {
   "cell_type": "code",
   "execution_count": 1,
   "metadata": {},
   "outputs": [],
   "source": [
    "import pandas as pd  # For reading and writing CSV files\n"
   ]
  },
  {
   "cell_type": "code",
   "execution_count": 2,
   "metadata": {},
   "outputs": [],
   "source": [
    "# Load the newly uploaded CSV file\n",
    "file_path = 'data/OEWSData.csv'\n",
    "df_employment_wage = pd.read_csv(file_path)\n",
    "\n",
    "# Split the data into 3 separate DataFrames for each Table\n",
    "\n",
    "# 1. Area Table (geographical information)\n",
    "df_area = df_employment_wage[['area', 'area_title', 'prim_state']].drop_duplicates()\n",
    "\n",
    "# 2. Occupation Table (occupational details)\n",
    "df_occupation = df_employment_wage[['occ_code', 'occ_title', 'o_group']].drop_duplicates()\n",
    "\n",
    "# 3. Employment_Wage Table (employment and wage data)\n",
    "df_employment_wage_data = df_employment_wage[['area', 'occ_code', 'tot_emp', 'emp_prse', 'jobs_1000', \n",
    "                                              'loc_quotient', 'h_mean', 'a_mean', 'mean_prse', 'h_pct25', \n",
    "                                              'h_median', 'h_pct75', 'a_pct25', 'a_median', 'a_pct75']]\n",
    "\n",
    "# Save these dataframes to CSV files\n",
    "df_area.to_csv('data/State_Table.csv', index=False)\n",
    "df_occupation.to_csv('data/Occupation_Table.csv', index=False)\n",
    "df_employment_wage_data.to_csv('data/EmploymentWage_Table.csv', index=False)\n"
   ]
  },
  {
   "cell_type": "code",
   "execution_count": null,
   "metadata": {},
   "outputs": [],
   "source": []
  }
 ],
 "metadata": {
  "kernelspec": {
   "display_name": "DataViz2",
   "language": "python",
   "name": "python3"
  },
  "language_info": {
   "codemirror_mode": {
    "name": "ipython",
    "version": 3
   },
   "file_extension": ".py",
   "mimetype": "text/x-python",
   "name": "python",
   "nbconvert_exporter": "python",
   "pygments_lexer": "ipython3",
   "version": "3.11.9"
  }
 },
 "nbformat": 4,
 "nbformat_minor": 2
}
